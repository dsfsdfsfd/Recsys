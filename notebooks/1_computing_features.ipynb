{
 "cells": [
  {
   "cell_type": "markdown",
   "metadata": {},
   "source": [
    "# Setup env"
   ]
  },
  {
   "cell_type": "code",
   "execution_count": 1,
   "metadata": {},
   "outputs": [],
   "source": [
    "import os\n",
    "import sys\n",
    "\n",
    "roor_dir = os.path.split(os.getcwd())[0]\n",
    "\n",
    "#add the root directory to 'PYTHONPATH' to use the recsys module from the noteboook\n",
    "if roor_dir not in sys.path:\n",
    "    sys.path.append(roor_dir)"
   ]
  },
  {
   "cell_type": "code",
   "execution_count": 2,
   "metadata": {},
   "outputs": [],
   "source": [
    "from pprint import pprint\n",
    "\n",
    "from recsys.config import setting\n",
    "from recsys.features.customers import DatasetSampler\n"
   ]
  },
  {
   "cell_type": "code",
   "execution_count": 3,
   "metadata": {},
   "outputs": [
    {
     "name": "stdout",
     "output_type": "stream",
     "text": [
      "{'CUSTOM_DATA_SIZE': <CustomDatasetSize.SMALL: 'SMALL'>}\n"
     ]
    }
   ],
   "source": [
    "pprint(dict(setting))"
   ]
  },
  {
   "cell_type": "code",
   "execution_count": 4,
   "metadata": {},
   "outputs": [
    {
     "data": {
      "text/plain": [
       "{<CustomDatasetSize.LARGE: 'LARGE'>: 50000,\n",
       " <CustomDatasetSize.MEDIUM: 'MEDIUM'>: 5000,\n",
       " <CustomDatasetSize.SMALL: 'SMALL'>: 1000}"
      ]
     },
     "execution_count": 4,
     "metadata": {},
     "output_type": "execute_result"
    }
   ],
   "source": [
    "DatasetSampler.get_supported_sizes()\n"
   ]
  },
  {
   "cell_type": "code",
   "execution_count": null,
   "metadata": {},
   "outputs": [],
   "source": []
  }
 ],
 "metadata": {
  "kernelspec": {
   "display_name": ".venv",
   "language": "python",
   "name": "python3"
  },
  "language_info": {
   "codemirror_mode": {
    "name": "ipython",
    "version": 3
   },
   "file_extension": ".py",
   "mimetype": "text/x-python",
   "name": "python",
   "nbconvert_exporter": "python",
   "pygments_lexer": "ipython3",
   "version": "3.12.9"
  }
 },
 "nbformat": 4,
 "nbformat_minor": 2
}
